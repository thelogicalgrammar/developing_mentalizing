{
 "cells": [
  {
   "cell_type": "code",
   "execution_count": 3,
   "id": "8d3065bc-023f-4577-b083-6f899a031654",
   "metadata": {},
   "outputs": [],
   "source": [
    "import LOTlib3\n",
    "from LOTlib3.Grammar import Grammar\n",
    "from LOTlib3.Eval import primitive\n",
    "from LOTlib3.Hypotheses.LOTHypothesis import LOTHypothesis\n",
    "from LOTlib3.Hypotheses.Likelihoods.BinaryLikelihood import BinaryLikelihood\n",
    "from LOTlib3.Miscellaneous import q\n",
    "from LOTlib3.DataAndObjects import FunctionData\n",
    "from LOTlib3.Samplers.MetropolisHastings import MetropolisHastingsSampler\n",
    "from LOTlib3.TopN import TopN\n",
    "\n",
    "import numpy as np\n",
    "from functools import cache\n",
    "import builtins\n",
    "from copy import copy\n",
    "from itertools import product\n",
    "from pprint import pprint"
   ]
  },
  {
   "cell_type": "markdown",
   "id": "61af33fd-cb74-4ee6-b016-26ddcc8fdea1",
   "metadata": {},
   "source": [
    "Define a grammar:"
   ]
  },
  {
   "cell_type": "code",
   "execution_count": 4,
   "id": "5dfe76f9-d675-4a13-81d2-7f7403f4fc38",
   "metadata": {},
   "outputs": [
    {
     "data": {
      "text/plain": [
       "UTILITY -> max([%s, %s])['UTILITY', 'UTILITY']\tw/ p=1.0"
      ]
     },
     "execution_count": 4,
     "metadata": {},
     "output_type": "execute_result"
    }
   ],
   "source": [
    "grammar = Grammar(start='ACTION')\n",
    "\n",
    "grammar.add_rule('ACTION', '0', None, 3)\n",
    "grammar.add_rule('ACTION', '1', None, 3)\n",
    "\n",
    "grammar.add_rule('UTILITY', 'u_a', None, 3)\n",
    "grammar.add_rule('UTILITY', 'u_b', None, 3)\n",
    "\n",
    "grammar.add_rule('ACTION', '(%s if %s else %s)', ['ACTION', 'BOOL', 'ACTION'], 0.5)\n",
    "grammar.add_rule('BOOL', '(%s == %s)', ['UTILITY', 'UTILITY'], 0.5)\n",
    "\n",
    "# grammar.add_rule('BOOL', '(%s and %s)', ['BOOL', 'BOOL'], 1)\n",
    "\n",
    "grammar.add_rule('UTILITY', 'max([%s, %s])', ['UTILITY', 'UTILITY'], 1)"
   ]
  },
  {
   "cell_type": "markdown",
   "id": "2ec03d4d-f5cb-405d-b91e-dd00c0a935ae",
   "metadata": {},
   "source": [
    "Example of generating a sentence from the grammar:"
   ]
  },
  {
   "cell_type": "code",
   "execution_count": 28,
   "id": "540aa0f6-f7dd-4eac-852e-d311db98674a",
   "metadata": {},
   "outputs": [
    {
     "data": {
      "text/plain": [
       "(1 if (max([max([u_a, u_b]), max([u_a, u_a])]) == u_b) else 1)"
      ]
     },
     "execution_count": 28,
     "metadata": {},
     "output_type": "execute_result"
    }
   ],
   "source": [
    "grammar.generate()"
   ]
  },
  {
   "cell_type": "markdown",
   "id": "b8cfc200-5be5-4580-85dd-83f86fa88464",
   "metadata": {},
   "source": [
    "Defining a hypothesis:"
   ]
  },
  {
   "cell_type": "code",
   "execution_count": 29,
   "id": "e67af8d0-a4d0-4b1e-8bfa-5b7b78fcd496",
   "metadata": {},
   "outputs": [],
   "source": [
    "class MyHypothesis(LOTHypothesis):\n",
    "\n",
    "    def __init__(self, **kwargs):\n",
    "        LOTHypothesis.__init__(\n",
    "            self, \n",
    "            grammar=grammar,\n",
    "            display='lambda u_a, u_b: %s',\n",
    "            **kwargs\n",
    "        )\n",
    "\n",
    "    def compute_single_likelihood(self, datum):\n",
    "\n",
    "        \"\"\"\n",
    "        datum: list[float]\n",
    "            For each action, its utility\n",
    "        \"\"\"\n",
    "\n",
    "        action = self(*datum.input)\n",
    "        utility = datum.input[action]\n",
    "        return np.log(utility)"
   ]
  },
  {
   "cell_type": "code",
   "execution_count": 30,
   "id": "9e0031c0-cb8d-48ea-a846-ccf6065a10ba",
   "metadata": {},
   "outputs": [],
   "source": [
    "# Define the data\n",
    "data = (\n",
    "    [FunctionData(input=[0.1, 0.9], output=None)]*10 + \n",
    "    [FunctionData(input=[0.9, 0.1], output=None)]*10\n",
    ")"
   ]
  },
  {
   "cell_type": "code",
   "execution_count": null,
   "id": "65d65bdf-313f-41d5-aa3c-ffee56a071cf",
   "metadata": {},
   "outputs": [],
   "source": [
    "# Fit the model to the data\n",
    "tn = TopN(N=10)\n",
    "h0 = MyHypothesis()\n",
    "for h in MetropolisHastingsSampler(h0, data, steps=1e6):\n",
    "    # print(h)\n",
    "    tn.add(h)"
   ]
  },
  {
   "cell_type": "code",
   "execution_count": 35,
   "id": "2c9cd3d5-5b92-498d-ad9f-7fe022d43b6e",
   "metadata": {},
   "outputs": [
    {
     "name": "stdout",
     "output_type": "stream",
     "text": [
      "-13.499551186744467 -2.1072103131565263 -11.39234087358794 lambda u_a, u_b: (0 if (max([u_a, u_a]) == max([u_a, u_b])) else 1)\n",
      "-13.499551186744467 -2.1072103131565263 -11.39234087358794 lambda u_a, u_b: (0 if (max([max([u_b, u_b]), u_a]) == u_a) else 1)\n",
      "-10.70634317730195 -2.1072103131565263 -8.599132864145423 lambda u_a, u_b: (0 if (u_a == max([u_a, u_b])) else 1)\n",
      "-10.70634317730195 -2.1072103131565263 -8.599132864145423 lambda u_a, u_b: (0 if (max([u_b, u_a]) == u_a) else 1)\n",
      "-10.70634317730195 -2.1072103131565263 -8.599132864145423 lambda u_a, u_b: (1 if (max([u_b, u_a]) == u_b) else 0)\n",
      "-10.70634317730195 -2.1072103131565263 -8.599132864145423 lambda u_a, u_b: (0 if (u_a == max([u_b, u_a])) else 1)\n",
      "-10.70634317730195 -2.1072103131565263 -8.599132864145423 lambda u_a, u_b: (0 if (max([u_a, u_b]) == u_a) else 1)\n",
      "-10.70634317730195 -2.1072103131565263 -8.599132864145423 lambda u_a, u_b: (1 if (u_b == max([u_b, u_a])) else 0)\n",
      "-10.70634317730195 -2.1072103131565263 -8.599132864145423 lambda u_a, u_b: (1 if (u_b == max([u_a, u_b])) else 0)\n",
      "-10.70634317730195 -2.1072103131565263 -8.599132864145423 lambda u_a, u_b: (1 if (max([u_a, u_b]) == u_b) else 0)\n"
     ]
    }
   ],
   "source": [
    "# Print the best found hypotheses\n",
    "for h in tn.get_all(sorted=True):\n",
    "    print(h.posterior_score, h.likelihood, h.prior, h)"
   ]
  }
 ],
 "metadata": {
  "kernelspec": {
   "display_name": "pLoT_RSA",
   "language": "python",
   "name": "plot_rsa"
  },
  "language_info": {
   "codemirror_mode": {
    "name": "ipython",
    "version": 3
   },
   "file_extension": ".py",
   "mimetype": "text/x-python",
   "name": "python",
   "nbconvert_exporter": "python",
   "pygments_lexer": "ipython3",
   "version": "3.12.3"
  }
 },
 "nbformat": 4,
 "nbformat_minor": 5
}
