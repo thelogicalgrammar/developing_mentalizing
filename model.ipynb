{
 "cells": [
  {
   "cell_type": "code",
   "execution_count": null,
   "id": "d7a01853-d1e8-4a5e-bc0c-bf610d4226f9",
   "metadata": {},
   "outputs": [],
   "source": [
    "import LOTlib3\n",
    "from LOTlib3.Grammar import Grammar\n",
    "from LOTlib3.Eval import primitive\n",
    "from LOTlib3.Hypotheses.LOTHypothesis import LOTHypothesis\n",
    "from LOTlib3.Hypotheses.Likelihoods.BinaryLikelihood import BinaryLikelihood\n",
    "from LOTlib3.Miscellaneous import q\n",
    "from LOTlib3.DataAndObjects import FunctionData\n",
    "from LOTlib3.Samplers.MetropolisHastings import MetropolisHastingsSampler\n",
    "from LOTlib3.TopN import TopN\n",
    "\n",
    "import numpy as np\n",
    "from functools import cache\n",
    "import builtins\n",
    "from copy import copy\n",
    "from itertools import product\n",
    "from pprint import pprint\n",
    "\n",
    "from copy import deepcopy"
   ]
  },
  {
   "cell_type": "code",
   "execution_count": 151,
   "id": "d3ca3d08-ac0e-4311-9f83-4a605f363c01",
   "metadata": {},
   "outputs": [],
   "source": [
    "n_objects = 4\n",
    "n_agents = 5\n",
    "n_batches = 3\n",
    "batches_size = 3\n",
    "history_size = 4\n",
    "expr_nest_prob = 0.25"
   ]
  },
  {
   "cell_type": "code",
   "execution_count": 173,
   "id": "3445f68b-501b-4a23-9c34-3fcba39ce448",
   "metadata": {
    "scrolled": true
   },
   "outputs": [
    {
     "name": "stdout",
     "output_type": "stream",
     "text": [
      "game:\n",
      " [[3 4 0 2 1]\n",
      " [1 2 4 3 0]\n",
      " [3 1 2 0 4]\n",
      " [1 2 3 0 4]]\n",
      "prefs:\n",
      " [[2 0 3 1]\n",
      " [2 3 0 1]\n",
      " [3 0 2 1]\n",
      " [2 0 1 3]\n",
      " [2 0 3 1]]\n",
      "actions:  [1 1 1 3 1]\n",
      "[-1.  1. -1.  1. -1.]\n",
      "\n",
      "game:\n",
      " [[3 2 1 4 0]\n",
      " [4 2 0 1 3]\n",
      " [4 2 3 1 0]\n",
      " [2 4 3 1 0]]\n",
      "prefs:\n",
      " [[2 0 3 1]\n",
      " [2 3 0 1]\n",
      " [3 0 2 1]\n",
      " [2 0 1 3]\n",
      " [2 0 3 1]]\n",
      "actions:  [1 1 1 3 1]\n",
      "[-1. -1. -1.  1.  1.]\n",
      "\n",
      "game:\n",
      " [[1 3 2 0 4]\n",
      " [4 3 0 1 2]\n",
      " [2 1 4 3 0]\n",
      " [0 3 2 1 4]]\n",
      "prefs:\n",
      " [[2 0 3 1]\n",
      " [2 3 0 1]\n",
      " [3 0 2 1]\n",
      " [2 0 1 3]\n",
      " [2 0 3 1]]\n",
      "actions:  [1 1 1 3 1]\n",
      "[-1. -1. -1.  1.  1.]\n",
      "\n",
      "game:\n",
      " [[0 2 3 4 1]\n",
      " [1 4 2 0 3]\n",
      " [2 0 3 1 4]\n",
      " [2 1 0 3 4]]\n",
      "prefs:\n",
      " [[2 0 3 1]\n",
      " [2 3 0 1]\n",
      " [3 0 2 1]\n",
      " [2 0 1 3]\n",
      " [2 0 3 1]]\n",
      "actions:  [1 1 1 3 1]\n",
      "[-1.  1. -1.  1. -1.]\n",
      "\n",
      "Done with 0:0:3\n",
      "0\n",
      "topN not yet defined!\n",
      "\n",
      "1\n",
      "topN not yet defined!\n",
      "\n",
      "2\n",
      "topN not yet defined!\n",
      "\n",
      "3\n",
      "topN not yet defined!\n",
      "\n",
      "4\n",
      "topN not yet defined!\n",
      "\n",
      "game:\n",
      " [[1 2 0 3 4]\n",
      " [3 4 0 1 2]\n",
      " [2 0 3 1 4]\n",
      " [4 0 2 1 3]]\n",
      "prefs:\n",
      " [[1 2 0 3]\n",
      " [2 1 0 3]\n",
      " [2 0 1 3]\n",
      " [3 2 0 1]\n",
      " [1 3 2 0]]\n",
      "actions:  [3 3 3 1 0]\n",
      "[ 1. -1. -1.  1.  1.]\n",
      "\n",
      "game:\n",
      " [[4 2 1 3 0]\n",
      " [4 3 2 1 0]\n",
      " [2 1 3 0 4]\n",
      " [4 3 0 2 1]]\n",
      "prefs:\n",
      " [[1 2 0 3]\n",
      " [2 1 0 3]\n",
      " [2 0 1 3]\n",
      " [3 2 0 1]\n",
      " [1 3 2 0]]\n",
      "actions:  [3 3 3 0 0]\n",
      "[ 1. -1. -1. -1.  1.]\n",
      "\n",
      "game:\n",
      " [[4 2 3 0 1]\n",
      " [2 0 3 1 4]\n",
      " [4 3 0 1 2]\n",
      " [0 4 3 2 1]]\n",
      "prefs:\n",
      " [[1 2 0 3]\n",
      " [2 1 0 3]\n",
      " [2 0 1 3]\n",
      " [3 2 0 1]\n",
      " [1 3 2 0]]\n",
      "actions:  [3 3 3 0 0]\n",
      "[ 1. -1. -1. -1.  1.]\n",
      "\n",
      "game:\n",
      " [[1 0 4 2 3]\n",
      " [3 2 0 1 4]\n",
      " [0 2 4 3 1]\n",
      " [3 2 0 4 1]]\n",
      "prefs:\n",
      " [[1 2 0 3]\n",
      " [2 1 0 3]\n",
      " [2 0 1 3]\n",
      " [3 2 0 1]\n",
      " [1 3 2 0]]\n",
      "actions:  [3 3 3 1 0]\n",
      "[-1. -1.  1.  1.  1.]\n",
      "\n",
      "Done with 0:1:3\n",
      "0\n",
      "lambda: [(lambda game, own_index, mem, acts, preds: forallagents(lambda var_a2: f_predict(var_a2, 'o1', preds), game)), (lambda game, own_index, mem, acts: f_write(f_self(own_index), 'z', mem))]\n",
      "\n",
      "1\n",
      "lambda: [(lambda game, own_index, mem, acts, preds: forallagents(lambda var_a2: f_predict(var_a2, 'o1', preds), game)), (lambda game, own_index, mem, acts: f_remove(f_self(own_index), 'z', mem))]\n",
      "\n",
      "2\n",
      "lambda: [(lambda game, own_index, mem, acts, preds: forallagents(lambda var_a2: f_predict(var_a2, 'o1', preds), game)), (lambda game, own_index, mem, acts: f_write(f_self(own_index), 'z', mem))]\n",
      "\n",
      "3\n",
      "lambda: [(lambda game, own_index, mem, acts, preds: forallagents(lambda var_a2: f_predict(var_a2, 'o1', preds), game)), (lambda game, own_index, mem, acts: f_remove(f_self(own_index), 'z', mem))]\n",
      "\n",
      "4\n",
      "lambda: [(lambda game, own_index, mem, acts, preds: forallagents(lambda var_a2: f_predict(var_a2, 'o1', preds), game)), (lambda game, own_index, mem, acts: f_remove(f_self(own_index), 'z', mem))]\n",
      "\n"
     ]
    },
    {
     "ename": "KeyboardInterrupt",
     "evalue": "",
     "output_type": "error",
     "traceback": [
      "\u001b[0;31m---------------------------------------------------------------------------\u001b[0m",
      "\u001b[0;31mKeyboardInterrupt\u001b[0m                         Traceback (most recent call last)",
      "Cell \u001b[0;32mIn[173], line 1\u001b[0m\n\u001b[0;32m----> 1\u001b[0m \u001b[43mrun_simulation\u001b[49m\u001b[43m(\u001b[49m\n\u001b[1;32m      2\u001b[0m \u001b[43m    \u001b[49m\u001b[43mn_agents\u001b[49m\u001b[43m,\u001b[49m\u001b[43m \u001b[49m\n\u001b[1;32m      3\u001b[0m \u001b[43m    \u001b[49m\u001b[43mn_objects\u001b[49m\u001b[43m,\u001b[49m\u001b[43m \u001b[49m\n\u001b[1;32m      4\u001b[0m \u001b[43m    \u001b[49m\u001b[43mn_batches\u001b[49m\u001b[43m,\u001b[49m\u001b[43m \u001b[49m\n\u001b[1;32m      5\u001b[0m \u001b[43m    \u001b[49m\u001b[43mbatches_size\u001b[49m\u001b[43m,\u001b[49m\u001b[43m \u001b[49m\n\u001b[1;32m      6\u001b[0m \u001b[43m    \u001b[49m\u001b[43mhistory_size\u001b[49m\u001b[43m,\u001b[49m\u001b[43m \u001b[49m\n\u001b[1;32m      7\u001b[0m \u001b[43m    \u001b[49m\u001b[43mdefine_grammar\u001b[49m\u001b[43m(\u001b[49m\u001b[43mn_objects\u001b[49m\u001b[43m,\u001b[49m\u001b[43m \u001b[49m\u001b[43mn_agents\u001b[49m\u001b[43m,\u001b[49m\u001b[43m \u001b[49m\u001b[43mexpr_nest_prob\u001b[49m\u001b[43m)\u001b[49m\u001b[43m,\u001b[49m\n\u001b[1;32m      8\u001b[0m \u001b[43m    \u001b[49m\u001b[43mlog\u001b[49m\u001b[38;5;241;43m=\u001b[39;49m\u001b[38;5;28;43;01mTrue\u001b[39;49;00m\n\u001b[1;32m      9\u001b[0m \u001b[43m)\u001b[49m\n",
      "Cell \u001b[0;32mIn[172], line 423\u001b[0m, in \u001b[0;36mrun_simulation\u001b[0;34m(n_agents, n_objects, n_batches, batches_size, history_size, grammar, log)\u001b[0m\n\u001b[1;32m    419\u001b[0m         \u001b[38;5;28mprint\u001b[39m()\n\u001b[1;32m    421\u001b[0m     \u001b[38;5;66;03m# run program induction on the whole history\u001b[39;00m\n\u001b[1;32m    422\u001b[0m     learned_programs \u001b[38;5;241m=\u001b[39m [\n\u001b[0;32m--> 423\u001b[0m         \u001b[43magent\u001b[49m\u001b[38;5;241;43m.\u001b[39;49m\u001b[43minduce_program\u001b[49m\u001b[43m(\u001b[49m\u001b[43mhistory\u001b[49m\u001b[43m)\u001b[49m\n\u001b[1;32m    424\u001b[0m         \u001b[38;5;28;01mfor\u001b[39;00m agent \u001b[38;5;129;01min\u001b[39;00m agents\n\u001b[1;32m    425\u001b[0m     ]\n\u001b[1;32m    427\u001b[0m     batch\u001b[38;5;241m.\u001b[39mappend({\n\u001b[1;32m    428\u001b[0m         \u001b[38;5;124m'\u001b[39m\u001b[38;5;124mhistory\u001b[39m\u001b[38;5;124m'\u001b[39m: history,\n\u001b[1;32m    429\u001b[0m         \u001b[38;5;124m'\u001b[39m\u001b[38;5;124mprograms\u001b[39m\u001b[38;5;124m'\u001b[39m: learned_programs\n\u001b[1;32m    430\u001b[0m     })\n\u001b[1;32m    432\u001b[0m \u001b[38;5;66;03m# run library learning to get more abstract concepts\u001b[39;00m\n\u001b[1;32m    433\u001b[0m \u001b[38;5;66;03m# for the next batch\u001b[39;00m\n",
      "Cell \u001b[0;32mIn[172], line 270\u001b[0m, in \u001b[0;36mAgent.induce_program\u001b[0;34m(self, history)\u001b[0m\n\u001b[1;32m    268\u001b[0m h0 \u001b[38;5;241m=\u001b[39m \u001b[38;5;28mself\u001b[39m\u001b[38;5;241m.\u001b[39mdefine_hypothesis()\n\u001b[1;32m    269\u001b[0m tn \u001b[38;5;241m=\u001b[39m TopN(N\u001b[38;5;241m=\u001b[39m\u001b[38;5;241m10\u001b[39m)\n\u001b[0;32m--> 270\u001b[0m \u001b[43m\u001b[49m\u001b[38;5;28;43;01mfor\u001b[39;49;00m\u001b[43m \u001b[49m\u001b[43mh\u001b[49m\u001b[43m \u001b[49m\u001b[38;5;129;43;01min\u001b[39;49;00m\u001b[43m \u001b[49m\u001b[43mMetropolisHastingsSampler\u001b[49m\u001b[43m(\u001b[49m\u001b[43mh0\u001b[49m\u001b[43m,\u001b[49m\u001b[43m \u001b[49m\u001b[43mdata\u001b[49m\u001b[43m,\u001b[49m\u001b[43m \u001b[49m\u001b[43msteps\u001b[49m\u001b[38;5;241;43m=\u001b[39;49m\u001b[38;5;241;43m1e4\u001b[39;49m\u001b[43m)\u001b[49m\u001b[43m:\u001b[49m\n\u001b[1;32m    271\u001b[0m \u001b[43m    \u001b[49m\u001b[43mtn\u001b[49m\u001b[38;5;241;43m.\u001b[39;49m\u001b[43madd\u001b[49m\u001b[43m(\u001b[49m\u001b[43mh\u001b[49m\u001b[43m)\u001b[49m\n\u001b[1;32m    273\u001b[0m \u001b[38;5;28mself\u001b[39m\u001b[38;5;241m.\u001b[39mprogram \u001b[38;5;241m=\u001b[39m tn\u001b[38;5;241m.\u001b[39mbest()\u001b[38;5;241m.\u001b[39mvalue\n",
      "File \u001b[0;32m/mnt/c/Users/faust/OneDrive - UvA/research_projects/2024_DISI/LOTlib3/Samplers/MetropolisHastings.py:139\u001b[0m, in \u001b[0;36mMetropolisHastingsSampler.__next__\u001b[0;34m(self)\u001b[0m\n\u001b[1;32m    136\u001b[0m \u001b[38;5;28;01massert\u001b[39;00m \u001b[38;5;28mself\u001b[39m\u001b[38;5;241m.\u001b[39mproposal\u001b[38;5;241m.\u001b[39mvalue \u001b[38;5;129;01mis\u001b[39;00m \u001b[38;5;129;01mnot\u001b[39;00m \u001b[38;5;28mself\u001b[39m\u001b[38;5;241m.\u001b[39mcurrent_sample\u001b[38;5;241m.\u001b[39mvalue, \u001b[38;5;124m\"\u001b[39m\u001b[38;5;124m*** Proposal cannot be the same as the current sample!\u001b[39m\u001b[38;5;124m\"\u001b[39m\n\u001b[1;32m    138\u001b[0m \u001b[38;5;66;03m# Call myself so memoized subclasses can override\u001b[39;00m\n\u001b[0;32m--> 139\u001b[0m \u001b[38;5;28;43mself\u001b[39;49m\u001b[38;5;241;43m.\u001b[39;49m\u001b[43mcompute_posterior\u001b[49m\u001b[43m(\u001b[49m\u001b[38;5;28;43mself\u001b[39;49m\u001b[38;5;241;43m.\u001b[39;49m\u001b[43mproposal\u001b[49m\u001b[43m,\u001b[49m\u001b[43m \u001b[49m\u001b[38;5;28;43mself\u001b[39;49m\u001b[38;5;241;43m.\u001b[39;49m\u001b[43mdata\u001b[49m\u001b[43m)\u001b[49m\n\u001b[1;32m    141\u001b[0m \u001b[38;5;66;03m# Note: It is important that we re-compute from the temperature since these may be altered\u001b[39;00m\n\u001b[1;32m    142\u001b[0m \u001b[38;5;66;03m#    externally from ParallelTempering and others\u001b[39;00m\n\u001b[1;32m    143\u001b[0m prop \u001b[38;5;241m=\u001b[39m (\u001b[38;5;28mself\u001b[39m\u001b[38;5;241m.\u001b[39mproposal\u001b[38;5;241m.\u001b[39mprior\u001b[38;5;241m/\u001b[39m\u001b[38;5;28mself\u001b[39m\u001b[38;5;241m.\u001b[39mprior_temperature \u001b[38;5;241m+\u001b[39m\n\u001b[1;32m    144\u001b[0m         \u001b[38;5;28mself\u001b[39m\u001b[38;5;241m.\u001b[39mproposal\u001b[38;5;241m.\u001b[39mlikelihood\u001b[38;5;241m/\u001b[39m\u001b[38;5;28mself\u001b[39m\u001b[38;5;241m.\u001b[39mlikelihood_temperature)\n",
      "File \u001b[0;32m/mnt/c/Users/faust/OneDrive - UvA/research_projects/2024_DISI/LOTlib3/Samplers/Sampler.py:91\u001b[0m, in \u001b[0;36mSampler.compute_posterior\u001b[0;34m(self, h, data, shortcut)\u001b[0m\n\u001b[1;32m     87\u001b[0m \u001b[38;5;250m\u001b[39m\u001b[38;5;124;03m\"\"\"\u001b[39;00m\n\u001b[1;32m     88\u001b[0m \u001b[38;5;124;03mA wrapper for hypothesis.compute_posterior(data) that can be overwritten in fancy subclassses.\u001b[39;00m\n\u001b[1;32m     89\u001b[0m \u001b[38;5;124;03m\"\"\"\u001b[39;00m\n\u001b[1;32m     90\u001b[0m \u001b[38;5;28mself\u001b[39m\u001b[38;5;241m.\u001b[39mposterior_calls \u001b[38;5;241m+\u001b[39m\u001b[38;5;241m=\u001b[39m \u001b[38;5;241m1\u001b[39m\n\u001b[0;32m---> 91\u001b[0m \u001b[38;5;28;01mreturn\u001b[39;00m \u001b[43mh\u001b[49m\u001b[38;5;241;43m.\u001b[39;49m\u001b[43mcompute_posterior\u001b[49m\u001b[43m(\u001b[49m\u001b[43mdata\u001b[49m\u001b[43m,\u001b[49m\u001b[43m \u001b[49m\u001b[43mshortcut\u001b[49m\u001b[38;5;241;43m=\u001b[39;49m\u001b[43mshortcut\u001b[49m\u001b[43m)\u001b[49m\n",
      "File \u001b[0;32m/mnt/c/Users/faust/OneDrive - UvA/research_projects/2024_DISI/LOTlib3/Miscellaneous.py:592\u001b[0m, in \u001b[0;36mattrmem.<locals>.wrap1.<locals>.wrap2\u001b[0;34m(self, *args, **kwargs)\u001b[0m\n\u001b[1;32m    591\u001b[0m \u001b[38;5;28;01mdef\u001b[39;00m \u001b[38;5;21mwrap2\u001b[39m(\u001b[38;5;28mself\u001b[39m, \u001b[38;5;241m*\u001b[39margs, \u001b[38;5;241m*\u001b[39m\u001b[38;5;241m*\u001b[39mkwargs):\n\u001b[0;32m--> 592\u001b[0m     v \u001b[38;5;241m=\u001b[39m \u001b[43mf\u001b[49m\u001b[43m(\u001b[49m\u001b[38;5;28;43mself\u001b[39;49m\u001b[43m,\u001b[49m\u001b[43m \u001b[49m\u001b[38;5;241;43m*\u001b[39;49m\u001b[43margs\u001b[49m\u001b[43m,\u001b[49m\u001b[43m \u001b[49m\u001b[38;5;241;43m*\u001b[39;49m\u001b[38;5;241;43m*\u001b[39;49m\u001b[43mkwargs\u001b[49m\u001b[43m)\u001b[49m\n\u001b[1;32m    593\u001b[0m     \u001b[38;5;28msetattr\u001b[39m(\u001b[38;5;28mself\u001b[39m, aname, v)\n\u001b[1;32m    594\u001b[0m     \u001b[38;5;28;01mreturn\u001b[39;00m v\n",
      "File \u001b[0;32m/mnt/c/Users/faust/OneDrive - UvA/research_projects/2024_DISI/LOTlib3/Hypotheses/Hypothesis.py:146\u001b[0m, in \u001b[0;36mHypothesis.compute_posterior\u001b[0;34m(self, d, **kwargs)\u001b[0m\n\u001b[1;32m    143\u001b[0m p \u001b[38;5;241m=\u001b[39m \u001b[38;5;28mself\u001b[39m\u001b[38;5;241m.\u001b[39mcompute_prior()\n\u001b[1;32m    145\u001b[0m \u001b[38;5;28;01mif\u001b[39;00m p \u001b[38;5;241m>\u001b[39m \u001b[38;5;241m-\u001b[39mInfinity:\n\u001b[0;32m--> 146\u001b[0m     l \u001b[38;5;241m=\u001b[39m \u001b[38;5;28;43mself\u001b[39;49m\u001b[38;5;241;43m.\u001b[39;49m\u001b[43mcompute_likelihood\u001b[49m\u001b[43m(\u001b[49m\u001b[43md\u001b[49m\u001b[43m,\u001b[49m\u001b[43m \u001b[49m\u001b[38;5;241;43m*\u001b[39;49m\u001b[38;5;241;43m*\u001b[39;49m\u001b[43mkwargs\u001b[49m\u001b[43m)\u001b[49m\n\u001b[1;32m    147\u001b[0m     \u001b[38;5;28;01mreturn\u001b[39;00m p \u001b[38;5;241m+\u001b[39m l\n\u001b[1;32m    148\u001b[0m \u001b[38;5;28;01melse\u001b[39;00m:\n",
      "File \u001b[0;32m/mnt/c/Users/faust/OneDrive - UvA/research_projects/2024_DISI/LOTlib3/Miscellaneous.py:592\u001b[0m, in \u001b[0;36mattrmem.<locals>.wrap1.<locals>.wrap2\u001b[0;34m(self, *args, **kwargs)\u001b[0m\n\u001b[1;32m    591\u001b[0m \u001b[38;5;28;01mdef\u001b[39;00m \u001b[38;5;21mwrap2\u001b[39m(\u001b[38;5;28mself\u001b[39m, \u001b[38;5;241m*\u001b[39margs, \u001b[38;5;241m*\u001b[39m\u001b[38;5;241m*\u001b[39mkwargs):\n\u001b[0;32m--> 592\u001b[0m     v \u001b[38;5;241m=\u001b[39m \u001b[43mf\u001b[49m\u001b[43m(\u001b[49m\u001b[38;5;28;43mself\u001b[39;49m\u001b[43m,\u001b[49m\u001b[43m \u001b[49m\u001b[38;5;241;43m*\u001b[39;49m\u001b[43margs\u001b[49m\u001b[43m,\u001b[49m\u001b[43m \u001b[49m\u001b[38;5;241;43m*\u001b[39;49m\u001b[38;5;241;43m*\u001b[39;49m\u001b[43mkwargs\u001b[49m\u001b[43m)\u001b[49m\n\u001b[1;32m    593\u001b[0m     \u001b[38;5;28msetattr\u001b[39m(\u001b[38;5;28mself\u001b[39m, aname, v)\n\u001b[1;32m    594\u001b[0m     \u001b[38;5;28;01mreturn\u001b[39;00m v\n",
      "File \u001b[0;32m/mnt/c/Users/faust/OneDrive - UvA/research_projects/2024_DISI/LOTlib3/Hypotheses/Hypothesis.py:102\u001b[0m, in \u001b[0;36mHypothesis.compute_likelihood\u001b[0;34m(self, data, shortcut, **kwargs)\u001b[0m\n\u001b[1;32m    100\u001b[0m ll \u001b[38;5;241m=\u001b[39m \u001b[38;5;241m0.0\u001b[39m\n\u001b[1;32m    101\u001b[0m \u001b[38;5;28;01mfor\u001b[39;00m datum \u001b[38;5;129;01min\u001b[39;00m data:\n\u001b[0;32m--> 102\u001b[0m     ll \u001b[38;5;241m+\u001b[39m\u001b[38;5;241m=\u001b[39m \u001b[38;5;28;43mself\u001b[39;49m\u001b[38;5;241;43m.\u001b[39;49m\u001b[43mcompute_single_likelihood\u001b[49m\u001b[43m(\u001b[49m\u001b[43mdatum\u001b[49m\u001b[43m,\u001b[49m\u001b[43m \u001b[49m\u001b[38;5;241;43m*\u001b[39;49m\u001b[38;5;241;43m*\u001b[39;49m\u001b[43mkwargs\u001b[49m\u001b[43m)\u001b[49m \u001b[38;5;241m/\u001b[39m \u001b[38;5;28mself\u001b[39m\u001b[38;5;241m.\u001b[39mlikelihood_temperature\n\u001b[1;32m    103\u001b[0m     \u001b[38;5;28;01mif\u001b[39;00m ll \u001b[38;5;241m<\u001b[39m shortcut:\n\u001b[1;32m    104\u001b[0m         \u001b[38;5;66;03m# print \"** Shortcut\", self\u001b[39;00m\n\u001b[1;32m    105\u001b[0m         \u001b[38;5;28;01mreturn\u001b[39;00m \u001b[38;5;241m-\u001b[39mInfinity\n",
      "Cell \u001b[0;32mIn[172], line 144\u001b[0m, in \u001b[0;36mMyHypothesis.compute_single_likelihood\u001b[0;34m(self, datum)\u001b[0m\n\u001b[1;32m    141\u001b[0m \u001b[38;5;66;03m# lambda game, own_index, mem, acts, preds\u001b[39;00m\n\u001b[1;32m    142\u001b[0m predictions \u001b[38;5;241m=\u001b[39m [np\u001b[38;5;241m.\u001b[39minf]\u001b[38;5;241m*\u001b[39mgame\u001b[38;5;241m.\u001b[39mn_agents\n\u001b[0;32m--> 144\u001b[0m \u001b[43mpredf\u001b[49m\u001b[43m(\u001b[49m\u001b[43mgame\u001b[49m\u001b[43m,\u001b[49m\u001b[43m \u001b[49m\u001b[38;5;28;43mself\u001b[39;49m\u001b[38;5;241;43m.\u001b[39;49m\u001b[43mindex\u001b[49m\u001b[43m,\u001b[49m\u001b[43m \u001b[49m\u001b[43mmem\u001b[49m\u001b[43m,\u001b[49m\u001b[43m \u001b[49m\u001b[38;5;28;43;01mNone\u001b[39;49;00m\u001b[43m,\u001b[49m\u001b[43m \u001b[49m\u001b[43mpredictions\u001b[49m\u001b[43m)\u001b[49m\n\u001b[1;32m    146\u001b[0m \u001b[38;5;66;03m# get total log lik score\u001b[39;00m\n\u001b[1;32m    147\u001b[0m loglik \u001b[38;5;241m+\u001b[39m\u001b[38;5;241m=\u001b[39m \u001b[38;5;28msum\u001b[39m(\n\u001b[1;32m    148\u001b[0m     logalpha \u001b[38;5;28;01mif\u001b[39;00m pr \u001b[38;5;241m==\u001b[39m ac \u001b[38;5;28;01melse\u001b[39;00m logonemalpha\n\u001b[1;32m    149\u001b[0m     \u001b[38;5;28;01mfor\u001b[39;00m pr, ac \n\u001b[1;32m    150\u001b[0m     \u001b[38;5;129;01min\u001b[39;00m \u001b[38;5;28mzip\u001b[39m(predictions, actions)\n\u001b[1;32m    151\u001b[0m )\n",
      "File \u001b[0;32m<string>:1\u001b[0m, in \u001b[0;36m<lambda>\u001b[0;34m(game, own_index, mem, acts, preds)\u001b[0m\n",
      "Cell \u001b[0;32mIn[159], line 30\u001b[0m, in \u001b[0;36mforallagents\u001b[0;34m(func, game)\u001b[0m\n\u001b[1;32m     27\u001b[0m \u001b[38;5;129m@primitive\u001b[39m\n\u001b[1;32m     28\u001b[0m \u001b[38;5;28;01mdef\u001b[39;00m \u001b[38;5;21mforallagents\u001b[39m(func, game):\n\u001b[1;32m     29\u001b[0m     \u001b[38;5;28;01mfor\u001b[39;00m agent \u001b[38;5;129;01min\u001b[39;00m \u001b[38;5;28mrange\u001b[39m(game\u001b[38;5;241m.\u001b[39mn_agents):\n\u001b[0;32m---> 30\u001b[0m         \u001b[43mfunc\u001b[49m\u001b[43m(\u001b[49m\u001b[38;5;124;43m'\u001b[39;49m\u001b[38;5;124;43ma\u001b[39;49m\u001b[38;5;124;43m'\u001b[39;49m\u001b[43m \u001b[49m\u001b[38;5;241;43m+\u001b[39;49m\u001b[43m \u001b[49m\u001b[38;5;28;43mstr\u001b[39;49m\u001b[43m(\u001b[49m\u001b[43magent\u001b[49m\u001b[43m)\u001b[49m\u001b[43m)\u001b[49m\n",
      "File \u001b[0;32m<string>:1\u001b[0m, in \u001b[0;36m<lambda>\u001b[0;34m(var_a2)\u001b[0m\n",
      "Cell \u001b[0;32mIn[159], line 19\u001b[0m, in \u001b[0;36mf_if\u001b[0;34m(cond, thunk1, thunk2)\u001b[0m\n\u001b[1;32m     16\u001b[0m \u001b[38;5;129m@primitive\u001b[39m\n\u001b[1;32m     17\u001b[0m \u001b[38;5;28;01mdef\u001b[39;00m \u001b[38;5;21mf_if\u001b[39m(cond, thunk1, thunk2):\n\u001b[1;32m     18\u001b[0m     \u001b[38;5;28;01mif\u001b[39;00m cond:\n\u001b[0;32m---> 19\u001b[0m         \u001b[43mthunk1\u001b[49m\u001b[43m(\u001b[49m\u001b[43m)\u001b[49m\n\u001b[1;32m     20\u001b[0m     \u001b[38;5;28;01melse\u001b[39;00m:\n\u001b[1;32m     21\u001b[0m         thunk2()\n",
      "File \u001b[0;32m<string>:1\u001b[0m, in \u001b[0;36m<lambda>\u001b[0;34m()\u001b[0m\n",
      "Cell \u001b[0;32mIn[159], line 21\u001b[0m, in \u001b[0;36mf_if\u001b[0;34m(cond, thunk1, thunk2)\u001b[0m\n\u001b[1;32m     19\u001b[0m     thunk1()\n\u001b[1;32m     20\u001b[0m \u001b[38;5;28;01melse\u001b[39;00m:\n\u001b[0;32m---> 21\u001b[0m     \u001b[43mthunk2\u001b[49m\u001b[43m(\u001b[49m\u001b[43m)\u001b[49m\n",
      "File \u001b[0;32m<string>:1\u001b[0m, in \u001b[0;36m<lambda>\u001b[0;34m()\u001b[0m\n",
      "Cell \u001b[0;32mIn[159], line 21\u001b[0m, in \u001b[0;36mf_if\u001b[0;34m(cond, thunk1, thunk2)\u001b[0m\n\u001b[1;32m     19\u001b[0m     thunk1()\n\u001b[1;32m     20\u001b[0m \u001b[38;5;28;01melse\u001b[39;00m:\n\u001b[0;32m---> 21\u001b[0m     \u001b[43mthunk2\u001b[49m\u001b[43m(\u001b[49m\u001b[43m)\u001b[49m\n",
      "File \u001b[0;32m<string>:1\u001b[0m, in \u001b[0;36m<lambda>\u001b[0;34m()\u001b[0m\n",
      "Cell \u001b[0;32mIn[159], line 35\u001b[0m, in \u001b[0;36mforallobjects\u001b[0;34m(func, game)\u001b[0m\n\u001b[1;32m     32\u001b[0m \u001b[38;5;129m@primitive\u001b[39m\n\u001b[1;32m     33\u001b[0m \u001b[38;5;28;01mdef\u001b[39;00m \u001b[38;5;21mforallobjects\u001b[39m(func, game):\n\u001b[1;32m     34\u001b[0m     \u001b[38;5;28;01mfor\u001b[39;00m obj \u001b[38;5;129;01min\u001b[39;00m \u001b[38;5;28mrange\u001b[39m(game\u001b[38;5;241m.\u001b[39mn_objects):\n\u001b[0;32m---> 35\u001b[0m         \u001b[43mfunc\u001b[49m\u001b[43m(\u001b[49m\u001b[38;5;124;43m'\u001b[39;49m\u001b[38;5;124;43mo\u001b[39;49m\u001b[38;5;124;43m'\u001b[39;49m\u001b[43m \u001b[49m\u001b[38;5;241;43m+\u001b[39;49m\u001b[43m \u001b[49m\u001b[38;5;28;43mstr\u001b[39;49m\u001b[43m(\u001b[49m\u001b[43mobj\u001b[49m\u001b[43m)\u001b[49m\u001b[43m)\u001b[49m\n",
      "File \u001b[0;32m<string>:1\u001b[0m, in \u001b[0;36m<lambda>\u001b[0;34m(var_o10)\u001b[0m\n",
      "Cell \u001b[0;32mIn[159], line 35\u001b[0m, in \u001b[0;36mforallobjects\u001b[0;34m(func, game)\u001b[0m\n\u001b[1;32m     32\u001b[0m \u001b[38;5;129m@primitive\u001b[39m\n\u001b[1;32m     33\u001b[0m \u001b[38;5;28;01mdef\u001b[39;00m \u001b[38;5;21mforallobjects\u001b[39m(func, game):\n\u001b[1;32m     34\u001b[0m     \u001b[38;5;28;01mfor\u001b[39;00m obj \u001b[38;5;129;01min\u001b[39;00m \u001b[38;5;28mrange\u001b[39m(game\u001b[38;5;241m.\u001b[39mn_objects):\n\u001b[0;32m---> 35\u001b[0m         \u001b[43mfunc\u001b[49m\u001b[43m(\u001b[49m\u001b[38;5;124;43m'\u001b[39;49m\u001b[38;5;124;43mo\u001b[39;49m\u001b[38;5;124;43m'\u001b[39;49m\u001b[43m \u001b[49m\u001b[38;5;241;43m+\u001b[39;49m\u001b[43m \u001b[49m\u001b[38;5;28;43mstr\u001b[39;49m\u001b[43m(\u001b[49m\u001b[43mobj\u001b[49m\u001b[43m)\u001b[49m\u001b[43m)\u001b[49m\n",
      "File \u001b[0;32m<string>:1\u001b[0m, in \u001b[0;36m<lambda>\u001b[0;34m(var_o12)\u001b[0m\n",
      "Cell \u001b[0;32mIn[159], line 30\u001b[0m, in \u001b[0;36mforallagents\u001b[0;34m(func, game)\u001b[0m\n\u001b[1;32m     27\u001b[0m \u001b[38;5;129m@primitive\u001b[39m\n\u001b[1;32m     28\u001b[0m \u001b[38;5;28;01mdef\u001b[39;00m \u001b[38;5;21mforallagents\u001b[39m(func, game):\n\u001b[1;32m     29\u001b[0m     \u001b[38;5;28;01mfor\u001b[39;00m agent \u001b[38;5;129;01min\u001b[39;00m \u001b[38;5;28mrange\u001b[39m(game\u001b[38;5;241m.\u001b[39mn_agents):\n\u001b[0;32m---> 30\u001b[0m         \u001b[43mfunc\u001b[49m\u001b[43m(\u001b[49m\u001b[38;5;124;43m'\u001b[39;49m\u001b[38;5;124;43ma\u001b[39;49m\u001b[38;5;124;43m'\u001b[39;49m\u001b[43m \u001b[49m\u001b[38;5;241;43m+\u001b[39;49m\u001b[43m \u001b[49m\u001b[38;5;28;43mstr\u001b[39;49m\u001b[43m(\u001b[49m\u001b[43magent\u001b[49m\u001b[43m)\u001b[49m\u001b[43m)\u001b[49m\n",
      "File \u001b[0;32m<string>:1\u001b[0m, in \u001b[0;36m<lambda>\u001b[0;34m(var_a14)\u001b[0m\n",
      "Cell \u001b[0;32mIn[159], line 35\u001b[0m, in \u001b[0;36mforallobjects\u001b[0;34m(func, game)\u001b[0m\n\u001b[1;32m     32\u001b[0m \u001b[38;5;129m@primitive\u001b[39m\n\u001b[1;32m     33\u001b[0m \u001b[38;5;28;01mdef\u001b[39;00m \u001b[38;5;21mforallobjects\u001b[39m(func, game):\n\u001b[1;32m     34\u001b[0m     \u001b[38;5;28;01mfor\u001b[39;00m obj \u001b[38;5;129;01min\u001b[39;00m \u001b[38;5;28mrange\u001b[39m(game\u001b[38;5;241m.\u001b[39mn_objects):\n\u001b[0;32m---> 35\u001b[0m         \u001b[43mfunc\u001b[49m\u001b[43m(\u001b[49m\u001b[38;5;124;43m'\u001b[39;49m\u001b[38;5;124;43mo\u001b[39;49m\u001b[38;5;124;43m'\u001b[39;49m\u001b[43m \u001b[49m\u001b[38;5;241;43m+\u001b[39;49m\u001b[43m \u001b[49m\u001b[38;5;28;43mstr\u001b[39;49m\u001b[43m(\u001b[49m\u001b[43mobj\u001b[49m\u001b[43m)\u001b[49m\u001b[43m)\u001b[49m\n",
      "File \u001b[0;32m<string>:1\u001b[0m, in \u001b[0;36m<lambda>\u001b[0;34m(var_o16)\u001b[0m\n",
      "Cell \u001b[0;32mIn[159], line 35\u001b[0m, in \u001b[0;36mforallobjects\u001b[0;34m(func, game)\u001b[0m\n\u001b[1;32m     32\u001b[0m \u001b[38;5;129m@primitive\u001b[39m\n\u001b[1;32m     33\u001b[0m \u001b[38;5;28;01mdef\u001b[39;00m \u001b[38;5;21mforallobjects\u001b[39m(func, game):\n\u001b[1;32m     34\u001b[0m     \u001b[38;5;28;01mfor\u001b[39;00m obj \u001b[38;5;129;01min\u001b[39;00m \u001b[38;5;28mrange\u001b[39m(game\u001b[38;5;241m.\u001b[39mn_objects):\n\u001b[0;32m---> 35\u001b[0m         \u001b[43mfunc\u001b[49m\u001b[43m(\u001b[49m\u001b[38;5;124;43m'\u001b[39;49m\u001b[38;5;124;43mo\u001b[39;49m\u001b[38;5;124;43m'\u001b[39;49m\u001b[43m \u001b[49m\u001b[38;5;241;43m+\u001b[39;49m\u001b[43m \u001b[49m\u001b[38;5;28;43mstr\u001b[39;49m\u001b[43m(\u001b[49m\u001b[43mobj\u001b[49m\u001b[43m)\u001b[49m\u001b[43m)\u001b[49m\n",
      "File \u001b[0;32m<string>:1\u001b[0m, in \u001b[0;36m<lambda>\u001b[0;34m(var_o18)\u001b[0m\n",
      "Cell \u001b[0;32mIn[159], line 21\u001b[0m, in \u001b[0;36mf_if\u001b[0;34m(cond, thunk1, thunk2)\u001b[0m\n\u001b[1;32m     19\u001b[0m     thunk1()\n\u001b[1;32m     20\u001b[0m \u001b[38;5;28;01melse\u001b[39;00m:\n\u001b[0;32m---> 21\u001b[0m     \u001b[43mthunk2\u001b[49m\u001b[43m(\u001b[49m\u001b[43m)\u001b[49m\n",
      "File \u001b[0;32m<string>:1\u001b[0m, in \u001b[0;36m<lambda>\u001b[0;34m()\u001b[0m\n",
      "Cell \u001b[0;32mIn[159], line 30\u001b[0m, in \u001b[0;36mforallagents\u001b[0;34m(func, game)\u001b[0m\n\u001b[1;32m     27\u001b[0m \u001b[38;5;129m@primitive\u001b[39m\n\u001b[1;32m     28\u001b[0m \u001b[38;5;28;01mdef\u001b[39;00m \u001b[38;5;21mforallagents\u001b[39m(func, game):\n\u001b[1;32m     29\u001b[0m     \u001b[38;5;28;01mfor\u001b[39;00m agent \u001b[38;5;129;01min\u001b[39;00m \u001b[38;5;28mrange\u001b[39m(game\u001b[38;5;241m.\u001b[39mn_agents):\n\u001b[0;32m---> 30\u001b[0m         \u001b[43mfunc\u001b[49m\u001b[43m(\u001b[49m\u001b[38;5;124;43m'\u001b[39;49m\u001b[38;5;124;43ma\u001b[39;49m\u001b[38;5;124;43m'\u001b[39;49m\u001b[43m \u001b[49m\u001b[38;5;241;43m+\u001b[39;49m\u001b[43m \u001b[49m\u001b[38;5;28;43mstr\u001b[39;49m\u001b[43m(\u001b[49m\u001b[43magent\u001b[49m\u001b[43m)\u001b[49m\u001b[43m)\u001b[49m\n",
      "File \u001b[0;32m<string>:1\u001b[0m, in \u001b[0;36m<lambda>\u001b[0;34m(var_a22)\u001b[0m\n",
      "Cell \u001b[0;32mIn[159], line 30\u001b[0m, in \u001b[0;36mforallagents\u001b[0;34m(func, game)\u001b[0m\n\u001b[1;32m     27\u001b[0m \u001b[38;5;129m@primitive\u001b[39m\n\u001b[1;32m     28\u001b[0m \u001b[38;5;28;01mdef\u001b[39;00m \u001b[38;5;21mforallagents\u001b[39m(func, game):\n\u001b[1;32m     29\u001b[0m     \u001b[38;5;28;01mfor\u001b[39;00m agent \u001b[38;5;129;01min\u001b[39;00m \u001b[38;5;28mrange\u001b[39m(game\u001b[38;5;241m.\u001b[39mn_agents):\n\u001b[0;32m---> 30\u001b[0m         \u001b[43mfunc\u001b[49m\u001b[43m(\u001b[49m\u001b[38;5;124;43m'\u001b[39;49m\u001b[38;5;124;43ma\u001b[39;49m\u001b[38;5;124;43m'\u001b[39;49m\u001b[43m \u001b[49m\u001b[38;5;241;43m+\u001b[39;49m\u001b[43m \u001b[49m\u001b[38;5;28;43mstr\u001b[39;49m\u001b[43m(\u001b[49m\u001b[43magent\u001b[49m\u001b[43m)\u001b[49m\u001b[43m)\u001b[49m\n",
      "File \u001b[0;32m<string>:1\u001b[0m, in \u001b[0;36m<lambda>\u001b[0;34m(var_a24)\u001b[0m\n",
      "Cell \u001b[0;32mIn[159], line 35\u001b[0m, in \u001b[0;36mforallobjects\u001b[0;34m(func, game)\u001b[0m\n\u001b[1;32m     32\u001b[0m \u001b[38;5;129m@primitive\u001b[39m\n\u001b[1;32m     33\u001b[0m \u001b[38;5;28;01mdef\u001b[39;00m \u001b[38;5;21mforallobjects\u001b[39m(func, game):\n\u001b[1;32m     34\u001b[0m     \u001b[38;5;28;01mfor\u001b[39;00m obj \u001b[38;5;129;01min\u001b[39;00m \u001b[38;5;28mrange\u001b[39m(game\u001b[38;5;241m.\u001b[39mn_objects):\n\u001b[0;32m---> 35\u001b[0m         \u001b[43mfunc\u001b[49m\u001b[43m(\u001b[49m\u001b[38;5;124;43m'\u001b[39;49m\u001b[38;5;124;43mo\u001b[39;49m\u001b[38;5;124;43m'\u001b[39;49m\u001b[43m \u001b[49m\u001b[38;5;241;43m+\u001b[39;49m\u001b[43m \u001b[49m\u001b[38;5;28;43mstr\u001b[39;49m\u001b[43m(\u001b[49m\u001b[43mobj\u001b[49m\u001b[43m)\u001b[49m\u001b[43m)\u001b[49m\n",
      "File \u001b[0;32m<string>:1\u001b[0m, in \u001b[0;36m<lambda>\u001b[0;34m(var_o26)\u001b[0m\n",
      "\u001b[0;31mKeyboardInterrupt\u001b[0m: "
     ]
    }
   ],
   "source": [
    "run_simulation(\n",
    "    n_agents, \n",
    "    n_objects, \n",
    "    n_batches, \n",
    "    batches_size, \n",
    "    history_size, \n",
    "    define_grammar(n_objects, n_agents, expr_nest_prob),\n",
    "    log=True\n",
    ")"
   ]
  },
  {
   "cell_type": "code",
   "execution_count": 178,
   "id": "70d2efef-ba96-480b-bb66-42b19505bca4",
   "metadata": {},
   "outputs": [
    {
     "data": {
      "text/plain": [
       "[(lambda game, own_index, mem, acts, preds: f_if(f_not(f_equals('a1', f_self(own_index))), lambda : f_predict('a0', 'o2', preds), lambda : f_predict('a1', 'o3', preds))), (lambda game, own_index, mem, acts: f_remove('a0', f_self(own_index), mem))]"
      ]
     },
     "execution_count": 178,
     "metadata": {},
     "output_type": "execute_result"
    }
   ],
   "source": [
    "grammar = define_grammar(4, 2, 0.25)\n",
    "\n",
    "grammar.generate()"
   ]
  },
  {
   "cell_type": "markdown",
   "id": "69f99af8-f25a-457c-95d1-02cfe71e9b87",
   "metadata": {},
   "source": [
    "# Library compression tests"
   ]
  },
  {
   "cell_type": "code",
   "execution_count": 3,
   "id": "b4c83c41-6ce4-4707-8663-e2b66a5a49f7",
   "metadata": {},
   "outputs": [],
   "source": [
    "n_objects = 5\n",
    "n_agents = 5\n",
    "expr_nest_prob = .25"
   ]
  },
  {
   "cell_type": "code",
   "execution_count": 105,
   "id": "7df5bd38-9a37-4cda-a9ab-024299c1e326",
   "metadata": {},
   "outputs": [
    {
     "data": {
      "text/plain": [
       "MS_FUNC -> lambda['M_EXPR']\tw/ p=1.0,\tBV:STR;None;x"
      ]
     },
     "execution_count": 105,
     "metadata": {},
     "output_type": "execute_result"
    }
   ],
   "source": [
    "\"\"\"\n",
    "programs consist of a move prediction function and of a memory update function.\n",
    "the memory structure is a set of strings for each agent.\n",
    "the stored strings are built from the alphabet {z, names of agents, names of objects}\n",
    "the prediction function calls \"predict(agent,object)\" and then any agents not predicted are given a random prediction\n",
    "the update function calls \"add(agent, string)\" and \"remove(agent, string)\" \n",
    "to add/remove string from the set corresponding to agent\n",
    "\"\"\"\n",
    "grammar = Grammar(start='INF')\n",
    "\n",
    "grammar.add_rule(\n",
    "    'INF',\n",
    "    # me is the agent's own ID\n",
    "    'list(%s)(%s)',\n",
    "    ['P_EXPR', 'M_EXPR'],\n",
    "    1\n",
    ")\n",
    "\n",
    "#### define data strings\n",
    "grammar.add_rule('STR', 'plus(%s)(%s)', ['STR','STR'], 0.5)\n",
    "grammar.add_rule('STR','%s', ['OBJ'], 1.0)\n",
    "grammar.add_rule('STR','%s', ['AG'], 1.0)\n",
    "grammar.add_rule('STR','z', None, 1.0)\n",
    "\n",
    "for i in range(n_objects):\n",
    "    grammar.add_rule('OBJ', 'o' + str(i), None, 3/n_objects)\n",
    "\n",
    "for i in range(n_agents):\n",
    "    grammar.add_rule('AG', 'a' + str(i), None, 3/n_agents)\n",
    "\n",
    "#### define boolean stuff, top-level variables\n",
    "grammar.add_rule('BOOL', 'f_and(%s)(%s)', ['BOOL', 'BOOL'], 0.5)\n",
    "grammar.add_rule('BOOL', 'f_not(%s)', ['BOOL'], 0.5)\n",
    "grammar.add_rule('BOOL', 'f_equals(%s)(%s)', ['AG','AG'],0.5)\n",
    "grammar.add_rule('BOOL', 'f_equals(%s)(%s)', ['OBJ','OBJ'],0.5)\n",
    "grammar.add_rule('BOOL', 'f_equals(%s)(%s)', ['STR','STR'],0.5)\n",
    "\n",
    "grammar.add_rule('GAME', 'game', None, 1)\n",
    "grammar.add_rule('AG', 'ag', None, 1)\n",
    "grammar.add_rule('MEM', 'mem', None, 1)\n",
    "grammar.add_rule('ACTS','acts', None, 1)\n",
    "\n",
    "#### ways for program to look at game, memory, acts\n",
    "grammar.add_rule('BOOL', 'f_closerthan(%s)(%s)(%s)(%s)', ['AG','AG','OBJ','GAME'], 1.0)\n",
    "grammar.add_rule('BOOL', 'f_chose(%s)(%s)(%s)', ['AG','OBJ','ACTS'], 1)\n",
    "grammar.add_rule('BOOL', 'f_in(%s)(%s)(%s)', ['STR', 'MEM', 'AG'], 1)\n",
    "\n",
    "#### define program logic for prediction program\n",
    "grammar.add_rule('P_EXPR', 'f_if(%s)(%s)(%s)', ['BOOL','P_EXPR','P_EXPR'], expr_nest_prob)\n",
    "grammar.add_rule('P_EXPR', 'f_predict(%s)(%s)', ['AG','OBJ'],1.0)\n",
    "\n",
    "##  iterate over agents\n",
    "grammar.add_rule('P_EXPR', 'forallagents', ['PA_FUNC'], expr_nest_prob)\n",
    "grammar.add_rule('PA_FUNC', 'lambda', ['P_EXPR'],1.0, bv_type='AG',bv_prefix='x')\n",
    "\n",
    "##  iterate over objects\n",
    "grammar.add_rule('P_EXPR', 'forallobjects', ['PO_FUNC'], expr_nest_prob)\n",
    "grammar.add_rule('PO_FUNC', 'lambda', ['P_EXPR'],1.0, bv_type='OBJ',bv_prefix='x')\n",
    "\n",
    "## iterate over strings in memory[agent]\n",
    "grammar.add_rule('P_EXPR','forallstrings(%s)(%s)',['AG','PS_FUNC'], expr_nest_prob)\n",
    "grammar.add_rule('PS_FUNC', 'lambda', ['P_EXPR'], 1.0, bv_type='STR',bv_prefix='x')\n",
    "\n",
    "#### define program logic for memory program\n",
    "grammar.add_rule('M_EXPR', 'f_if(%s)(%s)(%s)',['BOOL', 'M_EXPR', 'M_EXPR'], expr_nest_prob)\n",
    "grammar.add_rule('M_EXPR', 'f_write(%s)(%s)',['AG','STR'],1.0)\n",
    "grammar.add_rule('M_EXPR', 'f_remove(%s)(%s)',['AG','STR'],1.0)\n",
    "\n",
    "##  iterate over agents\n",
    "grammar.add_rule('M_EXPR', 'forallagents', ['MA_FUNC'], expr_nest_prob)\n",
    "grammar.add_rule('MA_FUNC', 'lambda', ['M_EXPR'],1.0, bv_type='AG',bv_prefix='x')\n",
    "\n",
    "##  iterate over objects\n",
    "grammar.add_rule('M_EXPR', 'forallobjects', ['MO_FUNC'],expr_nest_prob)\n",
    "grammar.add_rule('MO_FUNC', 'lambda', ['M_EXPR'],1.0, bv_type='OBJ',bv_prefix='x')\n",
    "\n",
    "## iterate over strings in memory[agent]\n",
    "grammar.add_rule('M_EXPR','forallstrings(%s)(%s)',['AG','MS_FUNC'], expr_nest_prob)\n",
    "grammar.add_rule('MS_FUNC', 'lambda', ['M_EXPR'], 1.0, bv_type='STR',bv_prefix='x')"
   ]
  },
  {
   "cell_type": "code",
   "execution_count": 106,
   "id": "7939924a-7f2c-4e3b-b90d-009f97f4621e",
   "metadata": {},
   "outputs": [],
   "source": [
    "from LOTlib3.StitchBindings import stitch_to_python, python_to_stitch, bindings"
   ]
  },
  {
   "cell_type": "code",
   "execution_count": 81,
   "id": "b2016899-bb30-44e6-a68c-e8f025092e13",
   "metadata": {},
   "outputs": [],
   "source": [
    "from stitch_core import compress"
   ]
  },
  {
   "cell_type": "code",
   "execution_count": 109,
   "id": "2ad91583-2f71-400d-b392-b796b1533707",
   "metadata": {},
   "outputs": [
    {
     "name": "stdout",
     "output_type": "stream",
     "text": [
      "list(f_predict(a4)(o2))(f_remove(ag)(a2))\n"
     ]
    }
   ],
   "source": [
    "xs = [\n",
    "    grammar.generate()\n",
    "    for _ in range(100)\n",
    "]\n",
    "print(xs[0])"
   ]
  },
  {
   "cell_type": "code",
   "execution_count": 110,
   "id": "8eb4405e-64d9-4a5d-9827-f5b3b16a4e7f",
   "metadata": {},
   "outputs": [],
   "source": [
    "xs_stitch = [\n",
    "    python_to_stitch.python_to_stitch(x.__str__())\n",
    "    for x in xs\n",
    "]"
   ]
  },
  {
   "cell_type": "code",
   "execution_count": 119,
   "id": "d81c115b-6bf6-4a76-8545-12d48c7263d0",
   "metadata": {},
   "outputs": [],
   "source": [
    "results = compress(\n",
    "    xs_stitch,\n",
    "    iterations=10\n",
    ")"
   ]
  },
  {
   "cell_type": "code",
   "execution_count": 120,
   "id": "8e2e71c8-36f5-4ece-b387-849fc0b89e4f",
   "metadata": {},
   "outputs": [
    {
     "data": {
      "text/plain": [
       "[fn_0(#0,#1) := (list (f_predict #1 #0)),\n",
       " fn_1(#0) := (forallagents (lam (f_predict $0 #0))),\n",
       " fn_2(#0) := (forallobjects (lam (f_predict #0 $0))),\n",
       " fn_3() := (f_remove ag),\n",
       " fn_4() := (f_remove a2),\n",
       " fn_5(#0,#1) := (f_if (f_in #1 mem #0)),\n",
       " fn_6(#0,#1) := (f_if (f_chose #1 #0 acts)),\n",
       " fn_7() := (fn_0 o2),\n",
       " fn_8() := (f_write ag),\n",
       " fn_9() := (fn_0 o4)]"
      ]
     },
     "execution_count": 120,
     "metadata": {},
     "output_type": "execute_result"
    }
   ],
   "source": [
    "results.abstractions"
   ]
  },
  {
   "cell_type": "code",
   "execution_count": 113,
   "id": "e3ec6d2b-351a-414c-af83-61f66559888e",
   "metadata": {},
   "outputs": [],
   "source": [
    "python_rewritten = [\n",
    "    bindings.abstraction_to_python(x.__str__())\n",
    "    for x\n",
    "    in results.abstractions\n",
    "]"
   ]
  },
  {
   "cell_type": "code",
   "execution_count": null,
   "id": "aa4c05e9-2877-47d7-b2d2-6058a848f273",
   "metadata": {},
   "outputs": [],
   "source": [
    "grammar.add_rule("
   ]
  },
  {
   "cell_type": "code",
   "execution_count": 114,
   "id": "a4fdbd7d-88e8-4add-8a6e-e7590b005098",
   "metadata": {},
   "outputs": [
    {
     "data": {
      "text/plain": [
       "['lambda y0: lambda y1: list(f_predict(y1)(y0))',\n",
       " 'lambda y0: forallagents(lambda x1: (f_predict(x1)(y0)))',\n",
       " 'lambda y0: forallobjects(lambda x1: (f_predict(y0)(x1)))',\n",
       " 'f_remove(ag)',\n",
       " 'f_remove(a2)',\n",
       " 'lambda y0: lambda y1: f_if(f_in(y1)(mem)(y0))',\n",
       " 'lambda y0: lambda y1: f_if(f_chose(y1)(y0)(acts))',\n",
       " 'fn_0(o2)',\n",
       " 'f_write(ag)',\n",
       " 'fn_0(o4)']"
      ]
     },
     "execution_count": 114,
     "metadata": {},
     "output_type": "execute_result"
    }
   ],
   "source": [
    "python_rewritten"
   ]
  },
  {
   "cell_type": "code",
   "execution_count": 122,
   "id": "8968cbe4-2ec1-4687-94e6-3176f3f9821c",
   "metadata": {},
   "outputs": [
    {
     "ename": "KeyError",
     "evalue": "'x1'",
     "output_type": "error",
     "traceback": [
      "\u001b[0;31m---------------------------------------------------------------------------\u001b[0m",
      "\u001b[0;31mKeyError\u001b[0m                                  Traceback (most recent call last)",
      "Cell \u001b[0;32mIn[122], line 1\u001b[0m\n\u001b[0;32m----> 1\u001b[0m \u001b[43mbindings\u001b[49m\u001b[38;5;241;43m.\u001b[39;49m\u001b[43mcompress_and_transform\u001b[49m\u001b[43m(\u001b[49m\n\u001b[1;32m      2\u001b[0m \u001b[43m    \u001b[49m\u001b[43mxs_stitch\u001b[49m\u001b[43m,\u001b[49m\n\u001b[1;32m      3\u001b[0m \u001b[43m    \u001b[49m\u001b[43mgrammar\u001b[49m\u001b[43m,\u001b[49m\n\u001b[1;32m      4\u001b[0m \u001b[43m    \u001b[49m\u001b[38;5;66;43;03m# how many hypotheses to compress per task\u001b[39;49;00m\n\u001b[1;32m      5\u001b[0m \u001b[43m    \u001b[49m\u001b[43mn_per_task\u001b[49m\u001b[38;5;241;43m=\u001b[39;49m\u001b[38;5;241;43m5\u001b[39;49m\u001b[43m,\u001b[49m\n\u001b[1;32m      6\u001b[0m \u001b[43m    \u001b[49m\u001b[43meta_long\u001b[49m\u001b[38;5;241;43m=\u001b[39;49m\u001b[38;5;28;43;01mTrue\u001b[39;49;00m\u001b[43m,\u001b[49m\n\u001b[1;32m      7\u001b[0m \u001b[43m    \u001b[49m\u001b[43mprefix\u001b[49m\u001b[38;5;241;43m=\u001b[39;49m\u001b[38;5;124;43m'\u001b[39;49m\u001b[38;5;124;43m'\u001b[39;49m\u001b[43m,\u001b[49m\n\u001b[1;32m      8\u001b[0m \u001b[43m    \u001b[49m\u001b[43mbest_names\u001b[49m\u001b[38;5;241;43m=\u001b[39;49m\u001b[38;5;28;43;01mNone\u001b[39;49;00m\u001b[43m,\u001b[49m\n\u001b[1;32m      9\u001b[0m \u001b[43m    \u001b[49m\u001b[38;5;66;43;03m# weight of new abstractions\u001b[39;49;00m\n\u001b[1;32m     10\u001b[0m \u001b[43m    \u001b[49m\u001b[43mweight\u001b[49m\u001b[38;5;241;43m=\u001b[39;49m\u001b[38;5;241;43m1\u001b[39;49m\u001b[43m,\u001b[49m\n\u001b[1;32m     11\u001b[0m \u001b[43m)\u001b[49m\n",
      "File \u001b[0;32m/mnt/c/Users/faust/OneDrive - UvA/research_projects/2024_DISI/LOTlib3/StitchBindings/bindings.py:246\u001b[0m, in \u001b[0;36mcompress_and_transform\u001b[0;34m(best_parsed, grammar, n_per_task, eta_long, prefix, best_names, weight)\u001b[0m\n\u001b[1;32m    239\u001b[0m flattened \u001b[38;5;241m=\u001b[39m flatten_multiple_arguments(\n\u001b[1;32m    240\u001b[0m     parse_function_calls(\n\u001b[1;32m    241\u001b[0m         python_fn\n\u001b[1;32m    242\u001b[0m     )\n\u001b[1;32m    243\u001b[0m )\n\u001b[1;32m    245\u001b[0m \u001b[38;5;66;03m# inferred type\u001b[39;00m\n\u001b[0;32m--> 246\u001b[0m inferred, _ \u001b[38;5;241m=\u001b[39m \u001b[43minfer_types\u001b[49m\u001b[43m(\u001b[49m\n\u001b[1;32m    247\u001b[0m \u001b[43m    \u001b[49m\u001b[43mflattened\u001b[49m\u001b[43m,\u001b[49m\u001b[43m \u001b[49m\n\u001b[1;32m    248\u001b[0m \u001b[43m    \u001b[49m\u001b[43mrules_dict\u001b[49m\u001b[43m,\u001b[49m\n\u001b[1;32m    249\u001b[0m \u001b[43m    \u001b[49m\u001b[38;5;28;43;01mNone\u001b[39;49;00m\n\u001b[1;32m    250\u001b[0m \u001b[43m\u001b[49m\u001b[43m)\u001b[49m\n\u001b[1;32m    251\u001b[0m \u001b[38;5;241m*\u001b[39mto, nt \u001b[38;5;241m=\u001b[39m recursive_flatten(inferred)\n\u001b[1;32m    253\u001b[0m new_grammar\u001b[38;5;241m.\u001b[39madd_rule(\n\u001b[1;32m    254\u001b[0m     nt\u001b[38;5;241m=\u001b[39mnt,\n\u001b[1;32m    255\u001b[0m     name\u001b[38;5;241m=\u001b[39madd_to_fname(name, to),\n\u001b[0;32m   (...)\u001b[0m\n\u001b[1;32m    259\u001b[0m     p\u001b[38;5;241m=\u001b[39mweight,\n\u001b[1;32m    260\u001b[0m )\n",
      "File \u001b[0;32m/mnt/c/Users/faust/OneDrive - UvA/research_projects/2024_DISI/LOTlib3/StitchBindings/bindings.py:85\u001b[0m, in \u001b[0;36minfer_types\u001b[0;34m(arg, rules_dict, known_type)\u001b[0m\n\u001b[1;32m     80\u001b[0m \u001b[38;5;66;03m# the type of a lambda is a function \u001b[39;00m\n\u001b[1;32m     81\u001b[0m \u001b[38;5;66;03m# from the type of its argument \u001b[39;00m\n\u001b[1;32m     82\u001b[0m \u001b[38;5;66;03m# to the type of its body\u001b[39;00m\n\u001b[1;32m     83\u001b[0m \u001b[38;5;66;03m# First value could look like 'lambda y0:'\u001b[39;00m\n\u001b[1;32m     84\u001b[0m \u001b[38;5;28;01mif\u001b[39;00m arg[\u001b[38;5;241m0\u001b[39m]\u001b[38;5;241m.\u001b[39mstartswith(\u001b[38;5;124m'\u001b[39m\u001b[38;5;124mlambda\u001b[39m\u001b[38;5;124m'\u001b[39m):\n\u001b[0;32m---> 85\u001b[0m     types_arguments, new_vartypes \u001b[38;5;241m=\u001b[39m \u001b[43minfer_types\u001b[49m\u001b[43m(\u001b[49m\n\u001b[1;32m     86\u001b[0m \u001b[43m        \u001b[49m\u001b[38;5;241;43m*\u001b[39;49m\u001b[43marg\u001b[49m\u001b[43m[\u001b[49m\u001b[38;5;241;43m1\u001b[39;49m\u001b[43m:\u001b[49m\u001b[43m]\u001b[49m\u001b[43m,\u001b[49m\n\u001b[1;32m     87\u001b[0m \u001b[43m        \u001b[49m\u001b[43mrules_dict\u001b[49m\u001b[43m,\u001b[49m\n\u001b[1;32m     88\u001b[0m \u001b[43m        \u001b[49m\u001b[43mknown_type\u001b[49m\u001b[38;5;241;43m=\u001b[39;49m\u001b[38;5;28;43;01mNone\u001b[39;49;00m\n\u001b[1;32m     89\u001b[0m \u001b[43m    \u001b[49m\u001b[43m)\u001b[49m\n\u001b[1;32m     90\u001b[0m     \u001b[38;5;66;03m# get actual variable\u001b[39;00m\n\u001b[1;32m     91\u001b[0m     var \u001b[38;5;241m=\u001b[39m arg[\u001b[38;5;241m0\u001b[39m]\u001b[38;5;241m.\u001b[39mstrip()[:\u001b[38;5;241m-\u001b[39m\u001b[38;5;241m1\u001b[39m]\u001b[38;5;241m.\u001b[39msplit(\u001b[38;5;124m'\u001b[39m\u001b[38;5;124m \u001b[39m\u001b[38;5;124m'\u001b[39m)[\u001b[38;5;241m1\u001b[39m]\n",
      "File \u001b[0;32m/mnt/c/Users/faust/OneDrive - UvA/research_projects/2024_DISI/LOTlib3/StitchBindings/bindings.py:110\u001b[0m, in \u001b[0;36minfer_types\u001b[0;34m(arg, rules_dict, known_type)\u001b[0m\n\u001b[1;32m    108\u001b[0m new_vartypes \u001b[38;5;241m=\u001b[39m \u001b[38;5;28mdict\u001b[39m()\n\u001b[1;32m    109\u001b[0m \u001b[38;5;28;01mfor\u001b[39;00m x, known_type \u001b[38;5;129;01min\u001b[39;00m \u001b[38;5;28mzip\u001b[39m(arg[\u001b[38;5;241m1\u001b[39m:], known_arg_types):\n\u001b[0;32m--> 110\u001b[0m     ta, vt \u001b[38;5;241m=\u001b[39m \u001b[43minfer_types\u001b[49m\u001b[43m(\u001b[49m\n\u001b[1;32m    111\u001b[0m \u001b[43m        \u001b[49m\u001b[43mx\u001b[49m\u001b[43m,\u001b[49m\u001b[43m \u001b[49m\n\u001b[1;32m    112\u001b[0m \u001b[43m        \u001b[49m\u001b[43mrules_dict\u001b[49m\u001b[43m,\u001b[49m\n\u001b[1;32m    113\u001b[0m \u001b[43m        \u001b[49m\u001b[43mknown_type\u001b[49m\u001b[38;5;241;43m=\u001b[39;49m\u001b[43mknown_type\u001b[49m\n\u001b[1;32m    114\u001b[0m \u001b[43m    \u001b[49m\u001b[43m)\u001b[49m\n\u001b[1;32m    115\u001b[0m     new_vartypes\u001b[38;5;241m.\u001b[39mupdate(vt)\n\u001b[1;32m    116\u001b[0m \u001b[38;5;28;01mreturn\u001b[39;00m [self_type], new_vartypes\n",
      "File \u001b[0;32m/mnt/c/Users/faust/OneDrive - UvA/research_projects/2024_DISI/LOTlib3/StitchBindings/bindings.py:85\u001b[0m, in \u001b[0;36minfer_types\u001b[0;34m(arg, rules_dict, known_type)\u001b[0m\n\u001b[1;32m     80\u001b[0m \u001b[38;5;66;03m# the type of a lambda is a function \u001b[39;00m\n\u001b[1;32m     81\u001b[0m \u001b[38;5;66;03m# from the type of its argument \u001b[39;00m\n\u001b[1;32m     82\u001b[0m \u001b[38;5;66;03m# to the type of its body\u001b[39;00m\n\u001b[1;32m     83\u001b[0m \u001b[38;5;66;03m# First value could look like 'lambda y0:'\u001b[39;00m\n\u001b[1;32m     84\u001b[0m \u001b[38;5;28;01mif\u001b[39;00m arg[\u001b[38;5;241m0\u001b[39m]\u001b[38;5;241m.\u001b[39mstartswith(\u001b[38;5;124m'\u001b[39m\u001b[38;5;124mlambda\u001b[39m\u001b[38;5;124m'\u001b[39m):\n\u001b[0;32m---> 85\u001b[0m     types_arguments, new_vartypes \u001b[38;5;241m=\u001b[39m \u001b[43minfer_types\u001b[49m\u001b[43m(\u001b[49m\n\u001b[1;32m     86\u001b[0m \u001b[43m        \u001b[49m\u001b[38;5;241;43m*\u001b[39;49m\u001b[43marg\u001b[49m\u001b[43m[\u001b[49m\u001b[38;5;241;43m1\u001b[39;49m\u001b[43m:\u001b[49m\u001b[43m]\u001b[49m\u001b[43m,\u001b[49m\n\u001b[1;32m     87\u001b[0m \u001b[43m        \u001b[49m\u001b[43mrules_dict\u001b[49m\u001b[43m,\u001b[49m\n\u001b[1;32m     88\u001b[0m \u001b[43m        \u001b[49m\u001b[43mknown_type\u001b[49m\u001b[38;5;241;43m=\u001b[39;49m\u001b[38;5;28;43;01mNone\u001b[39;49;00m\n\u001b[1;32m     89\u001b[0m \u001b[43m    \u001b[49m\u001b[43m)\u001b[49m\n\u001b[1;32m     90\u001b[0m     \u001b[38;5;66;03m# get actual variable\u001b[39;00m\n\u001b[1;32m     91\u001b[0m     var \u001b[38;5;241m=\u001b[39m arg[\u001b[38;5;241m0\u001b[39m]\u001b[38;5;241m.\u001b[39mstrip()[:\u001b[38;5;241m-\u001b[39m\u001b[38;5;241m1\u001b[39m]\u001b[38;5;241m.\u001b[39msplit(\u001b[38;5;124m'\u001b[39m\u001b[38;5;124m \u001b[39m\u001b[38;5;124m'\u001b[39m)[\u001b[38;5;241m1\u001b[39m]\n",
      "File \u001b[0;32m/mnt/c/Users/faust/OneDrive - UvA/research_projects/2024_DISI/LOTlib3/StitchBindings/bindings.py:110\u001b[0m, in \u001b[0;36minfer_types\u001b[0;34m(arg, rules_dict, known_type)\u001b[0m\n\u001b[1;32m    108\u001b[0m new_vartypes \u001b[38;5;241m=\u001b[39m \u001b[38;5;28mdict\u001b[39m()\n\u001b[1;32m    109\u001b[0m \u001b[38;5;28;01mfor\u001b[39;00m x, known_type \u001b[38;5;129;01min\u001b[39;00m \u001b[38;5;28mzip\u001b[39m(arg[\u001b[38;5;241m1\u001b[39m:], known_arg_types):\n\u001b[0;32m--> 110\u001b[0m     ta, vt \u001b[38;5;241m=\u001b[39m \u001b[43minfer_types\u001b[49m\u001b[43m(\u001b[49m\n\u001b[1;32m    111\u001b[0m \u001b[43m        \u001b[49m\u001b[43mx\u001b[49m\u001b[43m,\u001b[49m\u001b[43m \u001b[49m\n\u001b[1;32m    112\u001b[0m \u001b[43m        \u001b[49m\u001b[43mrules_dict\u001b[49m\u001b[43m,\u001b[49m\n\u001b[1;32m    113\u001b[0m \u001b[43m        \u001b[49m\u001b[43mknown_type\u001b[49m\u001b[38;5;241;43m=\u001b[39;49m\u001b[43mknown_type\u001b[49m\n\u001b[1;32m    114\u001b[0m \u001b[43m    \u001b[49m\u001b[43m)\u001b[49m\n\u001b[1;32m    115\u001b[0m     new_vartypes\u001b[38;5;241m.\u001b[39mupdate(vt)\n\u001b[1;32m    116\u001b[0m \u001b[38;5;28;01mreturn\u001b[39;00m [self_type], new_vartypes\n",
      "File \u001b[0;32m/mnt/c/Users/faust/OneDrive - UvA/research_projects/2024_DISI/LOTlib3/StitchBindings/bindings.py:127\u001b[0m, in \u001b[0;36minfer_types\u001b[0;34m(arg, rules_dict, known_type)\u001b[0m\n\u001b[1;32m    123\u001b[0m     \u001b[38;5;28;01mreturn\u001b[39;00m known_type, {arg: known_type}\n\u001b[1;32m    125\u001b[0m \u001b[38;5;66;03m# otherwise, this is just a terminal\u001b[39;00m\n\u001b[1;32m    126\u001b[0m \u001b[38;5;28;01melse\u001b[39;00m:\n\u001b[0;32m--> 127\u001b[0m     \u001b[38;5;28;01mreturn\u001b[39;00m \u001b[43mrules_dict\u001b[49m\u001b[43m[\u001b[49m\u001b[43marg\u001b[49m\u001b[43m]\u001b[49m[\u001b[38;5;241m0\u001b[39m], \u001b[38;5;28mdict\u001b[39m()\n",
      "\u001b[0;31mKeyError\u001b[0m: 'x1'"
     ]
    }
   ],
   "source": [
    "bindings.compress_and_transform(\n",
    "    xs_stitch,\n",
    "    grammar,\n",
    "    # how many hypotheses to compress per task\n",
    "    n_per_task=5,\n",
    "    eta_long=True,\n",
    "    prefix='',\n",
    "    best_names=None,\n",
    "    # weight of new abstractions\n",
    "    weight=1,\n",
    ")"
   ]
  }
 ],
 "metadata": {
  "kernelspec": {
   "display_name": "pLoT_RSA",
   "language": "python",
   "name": "plot_rsa"
  },
  "language_info": {
   "codemirror_mode": {
    "name": "ipython",
    "version": 3
   },
   "file_extension": ".py",
   "mimetype": "text/x-python",
   "name": "python",
   "nbconvert_exporter": "python",
   "pygments_lexer": "ipython3",
   "version": "3.12.3"
  }
 },
 "nbformat": 4,
 "nbformat_minor": 5
}
